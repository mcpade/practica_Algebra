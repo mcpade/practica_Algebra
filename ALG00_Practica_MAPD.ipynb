{
 "cells": [
  {
   "cell_type": "markdown",
   "metadata": {},
   "source": [
    "# Práctica"
   ]
  },
  {
   "cell_type": "markdown",
   "metadata": {},
   "source": [
    "## 1. La conjetura de Collatz\n",
    "\n",
    "Escribir un procedimiento en Python que implemente el mecanismo de la conjetura de Collatz para cualquier número entero positivo."
   ]
  },
  {
   "cell_type": "code",
   "execution_count": 2,
   "metadata": {},
   "outputs": [],
   "source": [
    "def Collatz (n):\n",
    "    if (n<1):\n",
    "        print (\"No es un número positivo\")\n",
    "    \n",
    "    elif (n-int(n)!=0):\n",
    "        print (\"No es un número entero\")\n",
    "\n",
    "    else:\n",
    "        \n",
    "        while (n!=1):\n",
    "          #Compruebo si es un número par o impar\n",
    "            if (n%2==0):  #par\n",
    "          \n",
    "                print(\"%d,\" %n, end=\"\")\n",
    "                n=n/2\n",
    "            else:   #impar\n",
    "                print(\"%d,\" %n, end=\"\")\n",
    "                n=(n*3)+1\n",
    "        print (\"%d\" %n)  "
   ]
  },
  {
   "cell_type": "code",
   "execution_count": 3,
   "metadata": {},
   "outputs": [
    {
     "name": "stdout",
     "output_type": "stream",
     "text": [
      "10,5,16,8,4,2,1\n"
     ]
    }
   ],
   "source": [
    "Collatz (10)"
   ]
  },
  {
   "cell_type": "code",
   "execution_count": 4,
   "metadata": {},
   "outputs": [
    {
     "name": "stdout",
     "output_type": "stream",
     "text": [
      "25,76,38,19,58,29,88,44,22,11,34,17,52,26,13,40,20,10,5,16,8,4,2,1\n"
     ]
    }
   ],
   "source": [
    "Collatz (25)"
   ]
  },
  {
   "cell_type": "markdown",
   "metadata": {},
   "source": [
    "**<span style=\"color:blue\"> Se puede hacer la prueba con diferentes números. Al final siempre acaba en 1</style>**"
   ]
  },
  {
   "cell_type": "markdown",
   "metadata": {},
   "source": [
    "## 2. Suma y producto escalar combinados\n",
    "\n",
    "Usando los procedimientos add y mult_vector_escalar definidos en el notebook **ALG05_Vectores**, calcular:   \n",
    "{$\\alpha$[1,2]+[3,4] : $\\alpha$$\\in$$\\mathbb{R}$, 0$\\leq$$\\alpha$$\\leq$1, con una precision de dos decimales (para la multiplicación)}"
   ]
  },
  {
   "cell_type": "code",
   "execution_count": 24,
   "metadata": {},
   "outputs": [
    {
     "name": "stdout",
     "output_type": "stream",
     "text": [
      "[[3.0, 4.0], [3.01, 4.02], [3.02, 4.04], [3.03, 4.06], [3.04, 4.08], [3.05, 4.1], [3.06, 4.12], [3.07, 4.14], [3.08, 4.16], [3.09, 4.18], [3.1, 4.2], [3.11, 4.22], [3.12, 4.24], [3.13, 4.26], [3.14, 4.28], [3.15, 4.3], [3.16, 4.32], [3.17, 4.34], [3.18, 4.36], [3.19, 4.38], [3.2, 4.4], [3.21, 4.42], [3.22, 4.44], [3.23, 4.46], [3.24, 4.48], [3.25, 4.5], [3.26, 4.52], [3.27, 4.54], [3.28, 4.56], [3.29, 4.58], [3.3, 4.6], [3.31, 4.62], [3.32, 4.64], [3.33, 4.66], [3.34, 4.68], [3.35, 4.7], [3.36, 4.72], [3.37, 4.74], [3.38, 4.76], [3.39, 4.78], [3.4, 4.8], [3.41, 4.82], [3.42, 4.84], [3.43, 4.86], [3.44, 4.88], [3.45, 4.9], [3.46, 4.92], [3.47, 4.94], [3.48, 4.96], [3.49, 4.98], [3.5, 5.0], [3.51, 5.02], [3.52, 5.04], [3.53, 5.06], [3.54, 5.08], [3.55, 5.1], [3.56, 5.12], [3.57, 5.14], [3.58, 5.16], [3.59, 5.18], [3.6, 5.2], [3.61, 5.22], [3.62, 5.24], [3.63, 5.26], [3.64, 5.28], [3.65, 5.3], [3.66, 5.32], [3.67, 5.34], [3.68, 5.36], [3.69, 5.38], [3.7, 5.4], [3.71, 5.42], [3.72, 5.44], [3.73, 5.46], [3.74, 5.48], [3.75, 5.5], [3.76, 5.52], [3.77, 5.54], [3.78, 5.56], [3.79, 5.58], [3.8, 5.6], [3.81, 5.62], [3.82, 5.64], [3.83, 5.66], [3.84, 5.68], [3.85, 5.7], [3.86, 5.72], [3.87, 5.74], [3.88, 5.76], [3.89, 5.78], [3.9, 5.8], [3.91, 5.82], [3.92, 5.84], [3.93, 5.86], [3.94, 5.88], [3.95, 5.9], [3.96, 5.92], [3.97, 5.94], [3.98, 5.96], [3.99, 5.98], [4.0, 6.0]]\n"
     ]
    }
   ],
   "source": [
    "import numpy as np\n",
    "\n",
    "def addn (x,y):\n",
    "    return [(x[i]+y[i]) for i in range (len(x))]\n",
    "\n",
    "def mult_vector_escalar (alfa,v):\n",
    "    return [(alfa * v[i]) for i in range (len(v))]\n",
    "\n",
    "alfa = np.arange (0,1.01,0.01)\n",
    "x=[mult_vector_escalar (a,[1,2]) for a in alfa]\n",
    "\n",
    "resultado =[addn (i,[3,4]) for i in x]\n",
    "\n",
    "#Redondeo a 2 decimales todo para que quede uniforme\n",
    "redondeo=[]\n",
    "for i in range (len (resultado)):\n",
    "    m=resultado[i]\n",
    "    mred = [round(j,2) for j in m]\n",
    "    redondeo.append (mred)\n",
    "\n",
    "print (redondeo)    \n",
    "    \n"
   ]
  },
  {
   "cell_type": "markdown",
   "metadata": {},
   "source": [
    "## 3. El secreto perfecto\n",
    "\n",
    "Representa la encriptación de la adicción de un n-vector a un n-vector de GF(2)  \n",
    "\n",
    "<img src=\"Images/mortadelo-filemon.jpg\" style=\"width: 300px;\"/>\n",
    "\n",
    "Mortadelo y Filemón usan como clave el siguiente vector:  \n",
    "**k**=[0,1,0,0,1,0,1,0,1,0] \n",
    "\n",
    "Mortadelo quiere enviarle a Filemón el siguiente mensaje:  \n",
    "**p**=[0,0,0,1,1,1,0,1,0,1] \n",
    "\n",
    "Mortadelo encripta su mensaje añadiendo k: \n",
    "**c**=**p**+**k**=[0,0,0,1,1,1,0,1,0,1]+[0,1,0,0,1,0,1,0,1,0]=[0,1,0,1,0,1,1,1,1,1] \n",
    "\n",
    "Cuando Filemón recibe el mensaje, lo desencripta añadiendo **k** a lo que ha recibido \n",
    "**p**=**c**+**k**=[0,1,0,1,0,1,1,1,1,1]+[0,1,0,0,1,0,1,0,1,0]=[0,0,0,1,1,1,0,1,0,1]    \n",
    "\n",
    "que es el mensaje original.\n",
    "\n",
    "La idea es crear un procedimiento para que Filemón:\n",
    "* No tenga que hacer este proceso manualmente cada vez que Mortadelo le envíe un mensaje encriptado para descifrarlo\n",
    "* Si deciden cambiar la clave, que el procedimiento cambie mínimamente\n",
    "\n",
    "  \n"
   ]
  },
  {
   "cell_type": "markdown",
   "metadata": {},
   "source": [
    "**<span style=\"color:blue\"> Esto simplemente es para ver como se genera la encriptación y desencriptación</style>**"
   ]
  },
  {
   "cell_type": "code",
   "execution_count": 67,
   "metadata": {},
   "outputs": [
    {
     "data": {
      "text/plain": [
       "True"
      ]
     },
     "execution_count": 67,
     "metadata": {},
     "output_type": "execute_result"
    }
   ],
   "source": [
    "\n",
    "k=[0,1,0,0,1,0,1,0,1,0] \n",
    "p=[0,0,0,1,1,1,0,1,0,1] \n",
    "\n",
    "#Encriptado\n",
    "x=addn (k,p)\n",
    "c=[i%2 for i in x]\n",
    "\n",
    "\n",
    "#Desencriptado\n",
    "y=addn(c,k)\n",
    "p2=[j%2 for j in y]\n",
    "\n",
    "p==p2"
   ]
  },
  {
   "cell_type": "markdown",
   "metadata": {},
   "source": [
    "**<span style=\"color:blue\">Procedimiento</style>**"
   ]
  },
  {
   "cell_type": "code",
   "execution_count": 68,
   "metadata": {},
   "outputs": [],
   "source": [
    "def addn (x,y):\n",
    "    return [(x[i]+y[i]) for i in range (len(x))]\n",
    "\n",
    "def desencriptar (c):\n",
    "    k=[0,1,0,0,1,0,1,0,1,0] #clave\n",
    "    y=addn(c,k)\n",
    "    return [j%2 for j in y]\n",
    "\n",
    "    "
   ]
  },
  {
   "cell_type": "code",
   "execution_count": 71,
   "metadata": {},
   "outputs": [
    {
     "data": {
      "text/plain": [
       "[0, 0, 0, 1, 1, 1, 0, 1, 0, 1]"
      ]
     },
     "execution_count": 71,
     "metadata": {},
     "output_type": "execute_result"
    }
   ],
   "source": [
    "desencriptar ([0,1,0,1,0,1,1,1,1,1])"
   ]
  },
  {
   "cell_type": "markdown",
   "metadata": {},
   "source": [
    "**<span style=\"color:blue\">Si cambiara la clave K solo habría que cambiar dentro del procedimiento el valor de k</style>**"
   ]
  },
  {
   "cell_type": "markdown",
   "metadata": {},
   "source": [
    "## 4. ¿Cuánto cuesta hacer una cerveza?\n",
    "\n",
    "<img src=\"Images/cerveza.jpg\" style=\"width: 300px;\"/>\n",
    "\n",
    "Supongamos que D es el conjunto de algunos ingredientes de la cerveza: \n",
    "> D={lúpulo, malta, agua, levadura} \n",
    "\n",
    "Por otro lado tenemos el vector coste:\n",
    "> coste={lúpulo: 2,5€, malta: 1.5€, agua: 0.006€, levadura: 0,45€}  \n",
    "\n",
    "Por último tenemos el vector cantidad con lo necesario para hacer una cerveza:\n",
    "> cantidad={lúpulo: 6u, malta: 14u, agua: 7u, levadura: 11u} \n",
    "\n",
    "¿Cuánto cuesta hacer una cerveza?"
   ]
  },
  {
   "cell_type": "code",
   "execution_count": 51,
   "metadata": {},
   "outputs": [
    {
     "name": "stdout",
     "output_type": "stream",
     "text": [
      "El coste para hacer una cerveza es 40.99 €\n"
     ]
    }
   ],
   "source": [
    "coste = [2.5, 1.5, 0.006, 0.45]\n",
    "cantidad = [6, 14, 7, 11]\n",
    "\n",
    "def prod_escalar (u,v):\n",
    "    return sum (u[i]*v[i] for i in range (len(u)))\n",
    "\n",
    "\n",
    "coste_cerveza = prod_escalar (coste,cantidad)\n",
    "coste_cer_red = round (coste_cerveza,2)  #Redondeo a 2 decimales\n",
    "\n",
    "print ('El coste para hacer una cerveza es ' + str (coste_cer_red) + ' €')\n"
   ]
  },
  {
   "cell_type": "markdown",
   "metadata": {},
   "source": [
    "## 5. La carrera de caballos\n",
    "\n",
    "Tres caballos A, B y C compiten en una carrera.  \n",
    "Las apuestas para dar como vencedor a cada uno de ellos son de 4 a 1 para A, 3 a 1 para B y 2 a 1 para C, tomando las unidades siempre en euros.  \n",
    "¿Cuánto debo apostar por cada caballo para asegurarme recibir 13 euros en toal, sin importar qué csaballo gane la carrera?"
   ]
  },
  {
   "cell_type": "markdown",
   "metadata": {},
   "source": [
    "Sean x,y,z el dinero apostado por los caballos A, B y C respectivamente.\n",
    "El objetivo del problema escalcular la cantidad que debe apostarse por cada caballo de forma que la suma del dinero recibido y perdido en ñas apuestas sea siempre igual a 13€.  \n",
    "Así, podemos plantear un sistema de tres ecuaciones con tres incógnitas, en el que igualaremos matemáticamente la cantidad percibida por la victoria de los caballos A, B, C y, al mismo tiempo, señalaremos que esta cantidad corresponde a 13€.  \n",
    "\n",
    "> 4x-y-z=3y-x-z  \n",
    "> 3y-x-z=2z-x-y  \n",
    "> 2z-x-y=13\n"
   ]
  },
  {
   "cell_type": "markdown",
   "metadata": {},
   "source": [
    "**<span style=\"color:blue\">Antes de pasar a resolver el sistema de ecuaciones voy a ver si tiene resultado. Para ello voy a calcular el rango de la matriz de coeficientes y el rango de la matriz ampliada.</style>**"
   ]
  },
  {
   "cell_type": "markdown",
   "metadata": {},
   "source": [
    "**<span style=\"color:blue\">El sistema de ecuaciones queda así:</style>**\n",
    "\n",
    "\n",
    "\n",
    "> 5x-4y=0  \n",
    "> 4y-3z=0  \n",
    "> -x-y+2z=13"
   ]
  },
  {
   "cell_type": "code",
   "execution_count": 7,
   "metadata": {},
   "outputs": [
    {
     "data": {
      "text/plain": [
       "3"
      ]
     },
     "execution_count": 7,
     "metadata": {},
     "output_type": "execute_result"
    }
   ],
   "source": [
    "import numpy as np\n",
    "\n",
    "A=np.matrix ([\n",
    "    [5,-4,0],\n",
    "    [0,4,-3],\n",
    "    [-1,-1,2]\n",
    "    \n",
    "])\n",
    "\n",
    "rango = np.linalg.matrix_rank (A)\n",
    "rango"
   ]
  },
  {
   "cell_type": "code",
   "execution_count": 2,
   "metadata": {},
   "outputs": [
    {
     "data": {
      "text/plain": [
       "3"
      ]
     },
     "execution_count": 2,
     "metadata": {},
     "output_type": "execute_result"
    }
   ],
   "source": [
    "import numpy as np\n",
    "\n",
    "A_amp=np.matrix ([\n",
    "    [5,-4,0,0],\n",
    "    [0,4,-3,0],\n",
    "    [-1,-1,2,13]\n",
    "    \n",
    "])\n",
    "\n",
    "rango_amp = np.linalg.matrix_rank (A)\n",
    "rango_amp\n"
   ]
  },
  {
   "cell_type": "markdown",
   "metadata": {},
   "source": [
    "**<span style=\"color:blue\">La matriz de coeficientes y la amplicada tienen el mismo rango (3) por lo que es un sistema compatible y además el rango coincide con el número de incognitas por lo que es un sistema compatible determinado con una única solución</style>**"
   ]
  },
  {
   "cell_type": "markdown",
   "metadata": {},
   "source": [
    "**<span style=\"color:blue\">Resolución 1: Con Solve</style>**"
   ]
  },
  {
   "cell_type": "code",
   "execution_count": 9,
   "metadata": {},
   "outputs": [
    {
     "name": "stdout",
     "output_type": "stream",
     "text": [
      "x= 12.0\n",
      "y= 15.0\n",
      "z= 20.0\n"
     ]
    }
   ],
   "source": [
    "import numpy as np\n",
    "\n",
    "A=np.matrix ([\n",
    "    [5,-4,0],\n",
    "    [0,4,-3],\n",
    "    [-1,-1,2]\n",
    "    \n",
    "])\n",
    "\n",
    "B=np.matrix ([\n",
    "    [0],\n",
    "    [0],\n",
    "    [13]\n",
    "    \n",
    "])\n",
    "X=np.linalg.solve (A,B)\n",
    "\n",
    "print ('x= {}'.format (round(X[0,0],2)))\n",
    "print ('y= {}'.format (round(X[1,0],2)))\n",
    "print ('z= {}'.format (round(X[2,0],2)))"
   ]
  },
  {
   "cell_type": "markdown",
   "metadata": {},
   "source": [
    "**<span style=\"color:blue\">Resolución 2: Con la matriz inversa</style>**"
   ]
  },
  {
   "cell_type": "code",
   "execution_count": 10,
   "metadata": {},
   "outputs": [
    {
     "name": "stdout",
     "output_type": "stream",
     "text": [
      "x= 12.0\n",
      "y= 15.0\n",
      "z= 20.0\n"
     ]
    }
   ],
   "source": [
    "import numpy as np\n",
    "\n",
    "A=np.matrix ([\n",
    "    [5,-4,0],\n",
    "    [0,4,-3],\n",
    "    [-1,-1,2]\n",
    "    \n",
    "])\n",
    "\n",
    "B=np.matrix ([\n",
    "    [0],\n",
    "    [0],\n",
    "    [13]\n",
    "    \n",
    "])\n",
    "\n",
    "\n",
    "x = np.linalg.inv (A)\n",
    "resultado = x*B\n",
    "\n",
    "\n",
    "print ('x= {}'.format (round(resultado[0,0],2)))\n",
    "print ('y= {}'.format (round(resultado[1,0],2)))\n",
    "print ('z= {}'.format (round(resultado[2,0],2)))\n",
    "\n"
   ]
  },
  {
   "cell_type": "markdown",
   "metadata": {},
   "source": [
    "**<span style=\"color:blue\">Resolución 3: Con el método de Cramer</style>**"
   ]
  },
  {
   "cell_type": "code",
   "execution_count": 11,
   "metadata": {},
   "outputs": [
    {
     "name": "stdout",
     "output_type": "stream",
     "text": [
      "x= 12.0\n",
      "y= 15.0\n",
      "z= 15.0\n"
     ]
    }
   ],
   "source": [
    "A=np.matrix ([\n",
    "    [5,-4,0],\n",
    "    [0,4,-3],\n",
    "    [-1,-1,2]\n",
    "    \n",
    "])\n",
    "\n",
    "AX =  np.matrix ([\n",
    "    [0,-4,0],\n",
    "    [0,4,-3],\n",
    "    [13,-1,2]\n",
    "    \n",
    "])\n",
    "\n",
    "AY = np.matrix ([\n",
    "    [5,0,0],\n",
    "    [0,0,-3],\n",
    "    [-1,13,2]\n",
    "    \n",
    "])\n",
    "\n",
    "AZ = np.matrix ([\n",
    "    [5,0,0],\n",
    "    [0,0,-3],\n",
    "    [-1,13,2]\n",
    "    \n",
    "])\n",
    "\n",
    "x=np.linalg.det (AX)/np.linalg.det(A)\n",
    "y=np.linalg.det (AY)/np.linalg.det(A)\n",
    "z=np.linalg.det (AZ)/np.linalg.det(A)\n",
    "\n",
    "print ('x= {}'.format (round(x)))\n",
    "print ('y= {}'.format (round(y)))\n",
    "print ('z= {}'.format (round(z)))"
   ]
  },
  {
   "cell_type": "markdown",
   "metadata": {},
   "source": [
    "## 6. Dimensión de matrices\n",
    "\n",
    "Sea la matriz $\n",
    "  M=\n",
    "  \\left[ {\\begin{array}{cc}\n",
    "   1 & 0  & 0 & 5 \\\\\n",
    "   0 & 2  & 0 & 7 \\\\\n",
    "   0 & 0  & 3 & 9 \\\\\n",
    "  \\end{array} } \\right]\n",
    "$. Calcular el rango por filas y por columnas usando Python."
   ]
  },
  {
   "cell_type": "code",
   "execution_count": 6,
   "metadata": {},
   "outputs": [
    {
     "name": "stdout",
     "output_type": "stream",
     "text": [
      "El rango de la matriz es 3 tanto por filas como por columnas. Es lo mismo\n"
     ]
    }
   ],
   "source": [
    "import numpy as np\n",
    "A=np.matrix ([\n",
    "    [1,0,0,5],\n",
    "    [0,2,0,7],\n",
    "    [0,0,3,9]\n",
    "])\n",
    "\n",
    "r=np.linalg.matrix_rank(A)\n",
    "\n",
    "print (\"El rango de la matriz es \" + str(r) + \" tanto por filas como por columnas. Es lo mismo\")"
   ]
  },
  {
   "cell_type": "markdown",
   "metadata": {},
   "source": [
    "## 7. Bosque de extensión mínima\n",
    "\n",
    "<img src=\"Images/bosque.png\" style=\"width: 800px;\"/>\n",
    "\n",
    "En clase hemos hecho el caso del grafo de la derecha. Le toca el turno al de la izquierda.\n",
    "Supongamos que queremos diseñar la red de internet para el otro campus universitario.  \n",
    "La red debe lograr la misma conectividad que el grafo de entrada.  \n",
    "Una arista representa un posible cable.  \n",
    "El peso de la arista es el coste de instalar el cable.  \n",
    "Nuestro objetivo es minimizar el coste total, usando el algoritmo Grow y el algoritmo Shrink.\n",
    "Lo único que en este caso se pide crear un procedimiento para el algoritmo Grow y otro para el Shrink que lo hagan automáticamente una vez les metamos como parámetros las aristas y sus pesos"
   ]
  },
  {
   "cell_type": "markdown",
   "metadata": {},
   "source": [
    "**<span style=\"color:blue\">GROW</style>**  \n",
    "<span style=\"color:blue\"> S: = ∅</style>\n",
    "\n",
    "<span style=\"color:blue\"> Colocamos las aristas en orden creciente según sus pesos: 2,7,9.  \n",
    "Cogemos la arista {Bio-Med, Pembroke Campus} y la añadimos a S.  \n",
    "Faltaría añadir el nodo Athletic Complex. Se puede hacer:</style>  \n",
    "* <span style=\"color:blue\">{Pembroke Campus, Athletic Complex}: 7</style>\n",
    "* <span style=\"color:blue\">{Bio-Med, Athletic Complex}: 9</style>  \n",
    "\n",
    "<span style=\"color:blue\">Según esto añadimos a S la arista {Pembroke Campus, Athletic Complex} que tiene menor coste.</style>   \n",
    "\n",
    "<span style=\"color:blue\">Por tanto, el mínimo bosque generador del grafo quedaría:</style>  \n",
    "> **<span style=\"color:blue\">S={ {Bio-Med, Pembroke Campus}, {Pembroke Campus, Athletic Complex}  </style>**    \n",
    "\n"
   ]
  },
  {
   "cell_type": "markdown",
   "metadata": {},
   "source": [
    "**<span style=\"color:blue\">Desarrollo de procedimiento en Python</style>**"
   ]
  },
  {
   "cell_type": "code",
   "execution_count": 2,
   "metadata": {},
   "outputs": [],
   "source": [
    "def Grow (grafo):\n",
    "    V=[]\n",
    "    bosque_minimo =[]\n",
    "    nodos_visitados= set()\n",
    "\n",
    "    #PASO 1: Saco una lista con todos los vértices del grafo y lo transformo en un conjunto para quedarme\n",
    "    #con los elementos únicos\n",
    "\n",
    "    bordes = list(grafo['aristas'])\n",
    "\n",
    "    for i in range (len(bordes)):\n",
    "            V.append (bordes[i][1])\n",
    "            V.append (bordes[i][2])\n",
    "    nodos = set (V)\n",
    "\n",
    "    #PASO 2: Ordeno las aristas en orden creciente de peso\n",
    "    bordes.sort()\n",
    "\n",
    "    #PASO 3: Cojo la primera aristas y directamente la añado al bosque mínimo\n",
    "    bosque_minimo.append (bordes[0])\n",
    "\n",
    "    #PASO 4: Quito del conjunto nodos los dos vertices de la arista añadida antes\n",
    "\n",
    "    nodos.remove (bordes[0][1])\n",
    "    nodos.remove (bordes[0][2])\n",
    "\n",
    "    #PASO 5: Añado esos dos vertices a un conjunto de nodos visitados\n",
    "\n",
    "    nodos_visitados.add (bordes[0][1])\n",
    "    nodos_visitados.add (bordes[0][2])\n",
    "    nodos_visitados\n",
    "\n",
    "    #PASO 6: Quito la aristas ya tratada de la lista de bordes\n",
    "    bordes.remove (bordes[0])\n",
    "\n",
    "    #PASO 7:  Cojo el primer elemento que me encuentre en el conjunto nodos. Siempre y cuando aun haya elementos\n",
    "    while (len(nodos)!=0):\n",
    "        vertice=nodos.pop() #Al mismo tiempo estoy sacando el elemento del conjunto\n",
    "        vertices_seleccionados =[]    \n",
    "        #PASO 8: Me voy a las aristas que me quedan y selecciono aquellas en las que esté el vertice leido ahora\n",
    "        for i in range (len(bordes)):\n",
    "            if vertice in (bordes[i]):\n",
    "                vertices_seleccionados.append (bordes[i])\n",
    "        \n",
    "        #PASO 9. Compruebo en cada arista que consigo si el elemento que acompaña a vertice está ya dentro del\n",
    "        #conjunto nodos_visitados. Si está me quedo con él\n",
    "        aristas_resultantes = []\n",
    "        for i in range (len(vertices_seleccionados)):\n",
    "            if (vertices_seleccionados[i][1]!=vertice):\n",
    "                vertice_a_comprobar = vertices_seleccionados[i][1]\n",
    "            else:\n",
    "                vertice_a_comprobar = vertices_seleccionados[i][2]\n",
    "    \n",
    "            if vertice_a_comprobar in nodos_visitados:\n",
    "                aristas_resultantes.append (vertices_seleccionados[i])\n",
    "\n",
    "        # PASO 10: El resultado debe estar ordenado en orden creciente así que me quedo para mi bosque con la primera\n",
    "        #de ellas        \n",
    "        bosque_minimo.append (aristas_resultantes[0])\n",
    "\n",
    "        #PASO 11. Añado el vértice al conjunto nodos visitados\n",
    "        nodos_visitados.add (vertice)\n",
    "\n",
    "    print (\"Nodos:\")\n",
    "    print (nodos_visitados)\n",
    "    print (\"Bosque de extensión mínima:\")\n",
    "    print (bosque_minimo)\n",
    "\n",
    "\n"
   ]
  },
  {
   "cell_type": "code",
   "execution_count": 3,
   "metadata": {},
   "outputs": [
    {
     "name": "stdout",
     "output_type": "stream",
     "text": [
      "Nodos:\n",
      "{'Athletic_Complex', 'Bio_Med', 'Pembroke_Campus'}\n",
      "Bosque de extensión mínima:\n",
      "[(2, 'Bio_Med', 'Pembroke_Campus'), (7, 'Pembroke_Campus', 'Athletic_Complex')]\n"
     ]
    }
   ],
   "source": [
    "grafo = {\n",
    "\n",
    "'aristas':[\n",
    "    (7,'Pembroke_Campus','Athletic_Complex'),\n",
    "    (9,'Athletic_Complex','Bio_Med'),\n",
    "    (2,'Bio_Med','Pembroke_Campus'),\n",
    "    \n",
    "    ]\n",
    "}\n",
    "Grow (grafo)"
   ]
  },
  {
   "cell_type": "markdown",
   "metadata": {},
   "source": [
    "**<span style=\"color:blue\">Pruebo el procedimiento también con el grafo de la derecha</style>**"
   ]
  },
  {
   "cell_type": "code",
   "execution_count": 5,
   "metadata": {},
   "outputs": [
    {
     "name": "stdout",
     "output_type": "stream",
     "text": [
      "Nodos:\n",
      "{'Gregorian_Quad', 'Wriston_Quad', 'Main_Quad', 'Keeney_Quad'}\n",
      "Bosque de extensión mínima:\n",
      "[(3, 'Main_Quad', 'Wriston_Quad'), (6, 'Wriston_Quad', 'Gregorian_Quad'), (4, 'Keeney_Quad', 'Wriston_Quad')]\n"
     ]
    }
   ],
   "source": [
    "grafo = {\n",
    "\n",
    "'aristas': [\n",
    "    (3,'Main_Quad','Wriston_Quad'),\n",
    "    (6,'Wriston_Quad','Gregorian_Quad'),\n",
    "    (8,'Keeney_Quad','Gregorian_Quad'),\n",
    "    (4,'Keeney_Quad','Wriston_Quad'),\n",
    "    (5,'Main_Quad','Keeney_Quad'),\n",
    "    \n",
    "    ]\n",
    "}\n",
    "\n",
    "Grow (grafo)"
   ]
  },
  {
   "cell_type": "markdown",
   "metadata": {},
   "source": [
    "**<span style=\"color:blue\">SHRINK</style>**  \n",
    "\n",
    "<span style=\"color:blue\">S:={ {Pembroke Campus, Athletic Complex}, {Athletic Complex, Bio-Med}, {Bio-Med, Pembroke Campus} } </style>\n",
    "\n",
    "<span style=\"color:blue\"> Colocamos las aristas en orden decreciente según sus pesos: 9,7,2.  \n",
    "La arista que más peso tiene es {Athletic Complex, Bio-Med}: 9. Si la quito aún podría seguir yendo de Bio-Med a Athletic Complex.  \n",
    "Luego S= { {Pembroke Campus, Athletic Complex}, {Bio-Med, Pembroke Campus} }.</style>  \n",
    "\n",
    "<span style=\"color:blue\">La otras dos aristas restantes: {Pembroke Campus, Athletic Complex} y {Bio-Med, Pembroke Campus} no se pueden eliminar.  \n",
    "Por tanto, finalmente queda:</style> \n",
    "    \n",
    "> **<span style=\"color:blue\">S={ {Pembroke Campus, Athletic Complex}, {Bio-Med, Pembroke Campus} }.</style>**  \n",
    "\n"
   ]
  },
  {
   "cell_type": "markdown",
   "metadata": {},
   "source": [
    "**<span style=\"color:blue\">Desarrollo de procedimiento en Python</style>**"
   ]
  },
  {
   "cell_type": "code",
   "execution_count": 6,
   "metadata": {},
   "outputs": [],
   "source": [
    "def Shrink (grafo):\n",
    "    \n",
    "    V=[]\n",
    "    bosque_minimo =[]\n",
    "    \n",
    "    #Paso 1: Saco una lista con todos los vértices del grafo \n",
    "    bordes = list(grafo['aristas'])\n",
    "    \n",
    "    for i in range (len(bordes)):\n",
    "            V.append (bordes[i][1])\n",
    "            V.append (bordes[i][2])\n",
    "    nodos = set (V)\n",
    "        \n",
    "\n",
    "    #Paso 2: Ordeno las aristas en orden decreciente\n",
    "    bordes.sort(reverse=True)\n",
    "\n",
    "    while (len(bordes)!=0):\n",
    "        #Paso 3: Me quedo con la primera arista que es la de más coste y leo los vertices\n",
    "        vertice1 = bordes[0][1]\n",
    "        vertice2 = bordes[0][2]\n",
    "        #Paso 4: De momento me quedo con ella en el bosque mínimo\n",
    "        bosque_minimo.append (bordes[0])\n",
    "        #Paso 6: Recorro el resto de aristas y las voy separando si contienen el vertice1 ó el vertice2\n",
    "        lista_con_vertice1 = []\n",
    "        lista_con_vertice2 = []\n",
    "        for i in range (1,len(bordes)):\n",
    "            if bordes[i][1]==vertice1:\n",
    "                lista_con_vertice1.append (bordes[i][2])\n",
    "    \n",
    "            elif bordes [i][2]==vertice1:\n",
    "                lista_con_vertice1.append (bordes[i][1])\n",
    "            if bordes[i][1]==vertice2:    \n",
    "                lista_con_vertice2.append (bordes[i][2])\n",
    "            elif bordes [i][2]==vertice2:    \n",
    "                lista_con_vertice2.append (bordes[i][1])\n",
    "\n",
    "        #Paso 7: Transformo a conjuntos para ver si hay intersección. Si hay elementos en la intersección significa\n",
    "        #que hay otro camino para poder ir del vertice 1 al 2 por tanto lo puedo quitar de mi bosque mínimo. Caso\n",
    "        #de que no exista camino y la intersección de 0 elementos lo tengo que dejar en el bosque mínimo\n",
    "\n",
    "        c_lista_con_vertice1 = set (lista_con_vertice1)\n",
    "        c_lista_con_vertice2 = set (lista_con_vertice2)\n",
    "\n",
    "        inter = c_lista_con_vertice1 & c_lista_con_vertice2\n",
    "\n",
    "        if (len(inter)!=0):\n",
    "            bosque_minimo.pop (-1)\n",
    "    \n",
    "    \n",
    "        #Paso 8: Quito de la arista de la lista de bordes para no volverla a procesar \n",
    "\n",
    "        bordes.remove (bordes[0])\n",
    "    print (\"Nodos:\")\n",
    "    print (nodos)\n",
    "    print (\"Bosque de extensión mínima:\")\n",
    "    print (bosque_minimo)"
   ]
  },
  {
   "cell_type": "code",
   "execution_count": 7,
   "metadata": {},
   "outputs": [
    {
     "name": "stdout",
     "output_type": "stream",
     "text": [
      "Nodos:\n",
      "{'Athletic_Complex', 'Pembroke_Campus', 'Bio_Med'}\n",
      "Bosque de extensión mínima:\n",
      "[(7, 'Pembroke_Campus', 'Athletic_Complex'), (2, 'Bio_Med', 'Pembroke_Campus')]\n"
     ]
    }
   ],
   "source": [
    "grafo = {\n",
    "\n",
    "'aristas':[\n",
    "    (7,'Pembroke_Campus','Athletic_Complex'),\n",
    "    (9,'Athletic_Complex','Bio_Med'),\n",
    "    (2,'Bio_Med','Pembroke_Campus'),\n",
    "    \n",
    "    ]\n",
    "}\n",
    "Shrink (grafo)"
   ]
  },
  {
   "cell_type": "markdown",
   "metadata": {},
   "source": [
    "**<span style=\"color:blue\">Pruebo el procedimiento también con el grafo de la derecha</style>**"
   ]
  },
  {
   "cell_type": "code",
   "execution_count": 12,
   "metadata": {},
   "outputs": [
    {
     "name": "stdout",
     "output_type": "stream",
     "text": [
      "Nodos:\n",
      "{'Gregorian_Quad', 'Wriston_Quad', 'Main_Quad', 'Keeney_Quad'}\n",
      "Bosque de extensión mínima:\n",
      "[(6, 'Wriston_Quad', 'Gregorian_Quad'), (4, 'Keeney_Quad', 'Wriston_Quad'), (3, 'Main_Quad', 'Wriston_Quad')]\n"
     ]
    }
   ],
   "source": [
    "\n",
    "grafo = {\n",
    "\n",
    "'aristas': [\n",
    "    (3,'Main_Quad','Wriston_Quad'),\n",
    "    (6,'Wriston_Quad','Gregorian_Quad'),\n",
    "    (8,'Keeney_Quad','Gregorian_Quad'),\n",
    "    (4,'Keeney_Quad','Wriston_Quad'),\n",
    "    (5,'Main_Quad','Keeney_Quad'),\n",
    "    \n",
    "    ]\n",
    "}\n",
    "\n",
    "Shrink(grafo)"
   ]
  },
  {
   "cell_type": "code",
   "execution_count": null,
   "metadata": {},
   "outputs": [],
   "source": []
  }
 ],
 "metadata": {
  "kernelspec": {
   "display_name": "Python 3",
   "language": "python",
   "name": "python3"
  },
  "language_info": {
   "codemirror_mode": {
    "name": "ipython",
    "version": 3
   },
   "file_extension": ".py",
   "mimetype": "text/x-python",
   "name": "python",
   "nbconvert_exporter": "python",
   "pygments_lexer": "ipython3",
   "version": "3.7.1"
  }
 },
 "nbformat": 4,
 "nbformat_minor": 2
}
